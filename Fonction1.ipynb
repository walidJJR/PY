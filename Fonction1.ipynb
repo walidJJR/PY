{
 "cells": [
  {
   "cell_type": "code",
   "execution_count": 1,
   "id": "9f391a5a-6aa6-44c1-85ef-a46b77a4fc7d",
   "metadata": {},
   "outputs": [],
   "source": [
    "def carre(x):\n",
    "    return x ** 2"
   ]
  },
  {
   "cell_type": "code",
   "execution_count": 3,
   "id": "2b54cb7e-11cf-49ef-914b-057eaf7af79b",
   "metadata": {},
   "outputs": [
    {
     "name": "stdout",
     "output_type": "stream",
     "text": [
      "4\n"
     ]
    }
   ],
   "source": [
    "resultat = carre(2)\n",
    "print(resultat)  # Affichera 25"
   ]
  },
  {
   "cell_type": "code",
   "execution_count": null,
   "id": "ff0187cd-3f68-484c-b25d-fbb53b1d9b52",
   "metadata": {},
   "outputs": [],
   "source": []
  }
 ],
 "metadata": {
  "kernelspec": {
   "display_name": "Python 3 (ipykernel)",
   "language": "python",
   "name": "python3"
  },
  "language_info": {
   "codemirror_mode": {
    "name": "ipython",
    "version": 3
   },
   "file_extension": ".py",
   "mimetype": "text/x-python",
   "name": "python",
   "nbconvert_exporter": "python",
   "pygments_lexer": "ipython3",
   "version": "3.8.10"
  }
 },
 "nbformat": 4,
 "nbformat_minor": 5
}
