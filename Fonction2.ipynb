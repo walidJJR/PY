{
 "cells": [
  {
   "cell_type": "code",
   "execution_count": 1,
   "id": "5021bc3e-99e9-411d-9e4e-f63c1284e714",
   "metadata": {},
   "outputs": [],
   "source": [
    "def ajouter_a(x):\n",
    "    return x + 'a'"
   ]
  },
  {
   "cell_type": "code",
   "execution_count": 7,
   "id": "14042ca0-cb39-4e3f-a0db-5a8f66712781",
   "metadata": {},
   "outputs": [
    {
     "name": "stdout",
     "output_type": "stream",
     "text": [
      "10a\n"
     ]
    }
   ],
   "source": [
    "resultat = ajouter_a('10')\n",
    "print(resultat)  # Affichera \"helloa\"\n"
   ]
  },
  {
   "cell_type": "code",
   "execution_count": null,
   "id": "c1384f39-4014-47f8-a0c9-2aad77da8415",
   "metadata": {},
   "outputs": [],
   "source": []
  }
 ],
 "metadata": {
  "kernelspec": {
   "display_name": "Python 3 (ipykernel)",
   "language": "python",
   "name": "python3"
  },
  "language_info": {
   "codemirror_mode": {
    "name": "ipython",
    "version": 3
   },
   "file_extension": ".py",
   "mimetype": "text/x-python",
   "name": "python",
   "nbconvert_exporter": "python",
   "pygments_lexer": "ipython3",
   "version": "3.8.10"
  }
 },
 "nbformat": 4,
 "nbformat_minor": 5
}
